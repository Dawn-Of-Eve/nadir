{
 "cells": [
  {
   "cell_type": "code",
   "execution_count": null,
   "metadata": {},
   "outputs": [],
   "source": [
    "import torch\n",
    "import argparse\n",
    "import wandb\n",
    "from typing import Any, List, Tuple\n",
    "\n",
    "from dataclasses import dataclass, field\n",
    "from typing import Dict, Tuple, Any, Optional\n",
    "from torch.optim.optimizer import Optimizer, required\n",
    "\n",
    "\n",
    "import torch.nn as nn\n",
    "import torch.nn.functional as F"
   ]
  },
  {
   "cell_type": "code",
   "execution_count": null,
   "metadata": {},
   "outputs": [],
   "source": [
    "from nadir import tests\n",
    "from nadir import nadir as optim\n",
    "from nadir.tests import mnist"
   ]
  },
  {
   "cell_type": "code",
   "execution_count": null,
   "metadata": {},
   "outputs": [],
   "source": [
    "class Net(nn.Module):\n",
    "    def __init__(self):\n",
    "        super(Net, self).__init__()\n",
    "        self.conv1 = nn.Conv2d(1, 32, 3, 1)\n",
    "        self.conv2 = nn.Conv2d(32, 64, 3, 1)\n",
    "        self.dropout1 = nn.Dropout(0.25)\n",
    "        self.dropout2 = nn.Dropout(0.5)\n",
    "        self.fc1 = nn.Linear(9216, 128)\n",
    "        self.fc2 = nn.Linear(128, 10)\n",
    "\n",
    "    def forward(self, x):\n",
    "        x = self.conv1(x)\n",
    "        x = F.relu(x)\n",
    "        x = self.conv2(x)\n",
    "        x = F.max_pool2d(x, 2)\n",
    "        x = self.dropout1(x)\n",
    "        x = torch.flatten(x, 1)\n",
    "        x = self.fc1(x)\n",
    "        x = F.relu(x)\n",
    "        x = self.dropout2(x)\n",
    "        x = self.fc2(x)\n",
    "        output = F.log_softmax(x, dim=1)\n",
    "        return output"
   ]
  },
  {
   "cell_type": "code",
   "execution_count": null,
   "metadata": {},
   "outputs": [],
   "source": [
    "args = argparse.Namespace()\n",
    "args.random_seeds : List[int] = [42]\n",
    "args.seed : int = args.random_seeds[0]\n",
    "\n",
    "args.learning_rate : float = 1e-3\n",
    "args.batch_size : int = 64\n",
    "args.test_batch_size : int = 1000\n",
    "args.gamma : float = 0.7\n",
    "args.device : bool = 'cuda' if torch.cuda.is_available() else 'cpu'\n",
    "args.log_interval : int = 10\n",
    "args.epochs : int = 10\n",
    "args.betas : Tuple[float, float] = (0.9, 0.99)\n",
    "args.eps : float = 1e-16\n",
    "args.optimizer : Any = optim.Adam\n"
   ]
  },
  {
   "cell_type": "code",
   "execution_count": null,
   "metadata": {},
   "outputs": [],
   "source": [
    "largs = argparse.Namespace()\n",
    "largs.run_name : str = 'DoE-Adam'\n",
    "largs.run_seed : str = args.seed"
   ]
  },
  {
   "cell_type": "code",
   "execution_count": null,
   "metadata": {},
   "outputs": [],
   "source": [
    "run = wandb.init(project=\"MNIST\", entity=\"dawn-of-eve\")\n",
    "run.name = f'{largs.run_name}'\n",
    "run.config.update(args)\n",
    "run.config.update(largs)"
   ]
  },
  {
   "cell_type": "code",
   "execution_count": null,
   "metadata": {},
   "outputs": [],
   "source": [
    "mnist.mnist_tester(args.optimizer, args, largs)\n"
   ]
  },
  {
   "cell_type": "code",
   "execution_count": null,
   "metadata": {},
   "outputs": [],
   "source": []
  }
 ],
 "metadata": {
  "kernelspec": {
   "display_name": "dawn-of-eve",
   "language": "python",
   "name": "python3"
  },
  "language_info": {
   "codemirror_mode": {
    "name": "ipython",
    "version": 3
   },
   "file_extension": ".py",
   "mimetype": "text/x-python",
   "name": "python",
   "nbconvert_exporter": "python",
   "pygments_lexer": "ipython3",
   "version": "3.9.15"
  },
  "orig_nbformat": 4,
  "vscode": {
   "interpreter": {
    "hash": "c88e393621c53c0ff30a461fc3b3671d9e8061725bb4d4a0a2412852c522bd7c"
   }
  }
 },
 "nbformat": 4,
 "nbformat_minor": 2
}
