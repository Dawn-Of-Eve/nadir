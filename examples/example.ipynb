{
 "cells": [
  {
   "cell_type": "code",
   "execution_count": 1,
   "metadata": {},
   "outputs": [
    {
     "name": "stderr",
     "output_type": "stream",
     "text": [
      "/home/ec3dev/personal/github/pyenv/nadir/lib/python3.8/site-packages/tqdm/auto.py:22: TqdmWarning: IProgress not found. Please update jupyter and ipywidgets. See https://ipywidgets.readthedocs.io/en/stable/user_install.html\n",
      "  from .autonotebook import tqdm as notebook_tqdm\n"
     ]
    }
   ],
   "source": [
    "import torch\n",
    "import argparse\n",
    "import wandb\n",
    "from typing import Any, List, Tuple\n",
    "\n",
    "from dataclasses import dataclass, field\n",
    "from typing import Dict, Tuple, Any, Optional\n",
    "from torch.optim.optimizer import Optimizer, required\n",
    "\n",
    "\n",
    "import torch.nn as nn\n",
    "import torch.nn.functional as F"
   ]
  },
  {
   "cell_type": "code",
   "execution_count": 2,
   "metadata": {},
   "outputs": [],
   "source": [
    "import nadir as optim\n",
    "import mnist"
   ]
  },
  {
   "cell_type": "code",
   "execution_count": 3,
   "metadata": {},
   "outputs": [],
   "source": [
    "class Net(nn.Module):\n",
    "    def __init__(self):\n",
    "        super(Net, self).__init__()\n",
    "        self.conv1 = nn.Conv2d(1, 32, 3, 1)\n",
    "        self.conv2 = nn.Conv2d(32, 64, 3, 1)\n",
    "        self.dropout1 = nn.Dropout(0.25)\n",
    "        self.dropout2 = nn.Dropout(0.5)\n",
    "        self.fc1 = nn.Linear(9216, 128)\n",
    "        self.fc2 = nn.Linear(128, 10)\n",
    "\n",
    "    def forward(self, x):\n",
    "        x = self.conv1(x)\n",
    "        x = F.relu(x)\n",
    "        x = self.conv2(x)\n",
    "        x = F.max_pool2d(x, 2)\n",
    "        x = self.dropout1(x)\n",
    "        x = torch.flatten(x, 1)\n",
    "        x = self.fc1(x)\n",
    "        x = F.relu(x)\n",
    "        x = self.dropout2(x)\n",
    "        x = self.fc2(x)\n",
    "        output = F.log_softmax(x, dim=1)\n",
    "        return output"
   ]
  },
  {
   "cell_type": "code",
   "execution_count": 4,
   "metadata": {},
   "outputs": [],
   "source": [
    "args = argparse.Namespace()\n",
    "args.random_seeds : List[int] = [42]\n",
    "args.seed : int = args.random_seeds[0]\n",
    "\n",
    "args.learning_rate : float = 1e-3\n",
    "args.batch_size : int = 64\n",
    "args.test_batch_size : int = 1000\n",
    "args.gamma : float = 0.7\n",
    "args.device : bool = 'cuda' if torch.cuda.is_available() else 'cpu'\n",
    "args.log_interval : int = 10\n",
    "args.epochs : int = 10\n",
    "args.betas : Tuple[float, float] = (0.9, 0.99)\n",
    "args.eps : float = 1e-16\n",
    "args.optimizer : Any = optim.Adam\n"
   ]
  },
  {
   "cell_type": "code",
   "execution_count": 5,
   "metadata": {},
   "outputs": [],
   "source": [
    "largs = argparse.Namespace()\n",
    "largs.run_name : str = 'DoE-Adam'\n",
    "largs.run_seed : str = args.seed"
   ]
  },
  {
   "cell_type": "code",
   "execution_count": 6,
   "metadata": {},
   "outputs": [
    {
     "name": "stderr",
     "output_type": "stream",
     "text": [
      "Failed to detect the name of this notebook, you can set it manually with the WANDB_NOTEBOOK_NAME environment variable to enable code saving.\n",
      "\u001b[34m\u001b[1mwandb\u001b[0m: Currently logged in as: \u001b[33mbhavnicksm\u001b[0m (\u001b[33mdawn-of-eve\u001b[0m). Use \u001b[1m`wandb login --relogin`\u001b[0m to force relogin\n"
     ]
    },
    {
     "data": {
      "text/html": [
       "Tracking run with wandb version 0.13.10"
      ],
      "text/plain": [
       "<IPython.core.display.HTML object>"
      ]
     },
     "metadata": {},
     "output_type": "display_data"
    },
    {
     "data": {
      "text/html": [
       "Run data is saved locally in <code>/home/ec3dev/personal/github/nadir/examples/wandb/run-20230225_125230-c8aest3g</code>"
      ],
      "text/plain": [
       "<IPython.core.display.HTML object>"
      ]
     },
     "metadata": {},
     "output_type": "display_data"
    },
    {
     "data": {
      "text/html": [
       "Syncing run <strong><a href='https://wandb.ai/dawn-of-eve/MNIST/runs/c8aest3g' target=\"_blank\">lunar-serenity-108</a></strong> to <a href='https://wandb.ai/dawn-of-eve/MNIST' target=\"_blank\">Weights & Biases</a> (<a href='https://wandb.me/run' target=\"_blank\">docs</a>)<br/>"
      ],
      "text/plain": [
       "<IPython.core.display.HTML object>"
      ]
     },
     "metadata": {},
     "output_type": "display_data"
    },
    {
     "data": {
      "text/html": [
       " View project at <a href='https://wandb.ai/dawn-of-eve/MNIST' target=\"_blank\">https://wandb.ai/dawn-of-eve/MNIST</a>"
      ],
      "text/plain": [
       "<IPython.core.display.HTML object>"
      ]
     },
     "metadata": {},
     "output_type": "display_data"
    },
    {
     "data": {
      "text/html": [
       " View run at <a href='https://wandb.ai/dawn-of-eve/MNIST/runs/c8aest3g' target=\"_blank\">https://wandb.ai/dawn-of-eve/MNIST/runs/c8aest3g</a>"
      ],
      "text/plain": [
       "<IPython.core.display.HTML object>"
      ]
     },
     "metadata": {},
     "output_type": "display_data"
    }
   ],
   "source": [
    "run = wandb.init(project=\"MNIST\", entity=\"dawn-of-eve\")\n",
    "run.name = f'{largs.run_name}'\n",
    "run.config.update(args)\n",
    "run.config.update(largs)"
   ]
  },
  {
   "cell_type": "code",
   "execution_count": 7,
   "metadata": {},
   "outputs": [
    {
     "name": "stdout",
     "output_type": "stream",
     "text": [
      "Downloading http://yann.lecun.com/exdb/mnist/train-images-idx3-ubyte.gz\n",
      "Downloading http://yann.lecun.com/exdb/mnist/train-images-idx3-ubyte.gz to ./data/MNIST/raw/train-images-idx3-ubyte.gz\n"
     ]
    },
    {
     "name": "stderr",
     "output_type": "stream",
     "text": [
      "100%|██████████| 9912422/9912422 [00:00<00:00, 13304585.23it/s]\n"
     ]
    },
    {
     "name": "stdout",
     "output_type": "stream",
     "text": [
      "Extracting ./data/MNIST/raw/train-images-idx3-ubyte.gz to ./data/MNIST/raw\n",
      "\n",
      "Downloading http://yann.lecun.com/exdb/mnist/train-labels-idx1-ubyte.gz\n",
      "Downloading http://yann.lecun.com/exdb/mnist/train-labels-idx1-ubyte.gz to ./data/MNIST/raw/train-labels-idx1-ubyte.gz\n"
     ]
    },
    {
     "name": "stderr",
     "output_type": "stream",
     "text": [
      "100%|██████████| 28881/28881 [00:00<00:00, 8737427.43it/s]"
     ]
    },
    {
     "name": "stdout",
     "output_type": "stream",
     "text": [
      "Extracting ./data/MNIST/raw/train-labels-idx1-ubyte.gz to ./data/MNIST/raw\n",
      "\n",
      "Downloading http://yann.lecun.com/exdb/mnist/t10k-images-idx3-ubyte.gz\n"
     ]
    },
    {
     "name": "stderr",
     "output_type": "stream",
     "text": [
      "\n"
     ]
    },
    {
     "name": "stdout",
     "output_type": "stream",
     "text": [
      "Downloading http://yann.lecun.com/exdb/mnist/t10k-images-idx3-ubyte.gz to ./data/MNIST/raw/t10k-images-idx3-ubyte.gz\n"
     ]
    },
    {
     "name": "stderr",
     "output_type": "stream",
     "text": [
      "100%|██████████| 1648877/1648877 [00:00<00:00, 8981198.92it/s]\n"
     ]
    },
    {
     "name": "stdout",
     "output_type": "stream",
     "text": [
      "Extracting ./data/MNIST/raw/t10k-images-idx3-ubyte.gz to ./data/MNIST/raw\n",
      "\n",
      "Downloading http://yann.lecun.com/exdb/mnist/t10k-labels-idx1-ubyte.gz\n",
      "Downloading http://yann.lecun.com/exdb/mnist/t10k-labels-idx1-ubyte.gz to ./data/MNIST/raw/t10k-labels-idx1-ubyte.gz\n"
     ]
    },
    {
     "name": "stderr",
     "output_type": "stream",
     "text": [
      "100%|██████████| 4542/4542 [00:00<00:00, 18057373.24it/s]\n"
     ]
    },
    {
     "name": "stdout",
     "output_type": "stream",
     "text": [
      "Extracting ./data/MNIST/raw/t10k-labels-idx1-ubyte.gz to ./data/MNIST/raw\n",
      "\n"
     ]
    },
    {
     "name": "stderr",
     "output_type": "stream",
     "text": [
      "Loss:  0.08657: 100%|██████████| 938/938 [00:14<00:00, 63.40it/s]\n",
      "Accuracy:  0.9707: 100%|██████████| 10/10 [00:01<00:00,  9.72it/s]\n",
      "Loss:  0.01439: 100%|██████████| 938/938 [00:13<00:00, 71.93it/s]\n",
      "Accuracy:  0.9793: 100%|██████████| 10/10 [00:01<00:00,  9.63it/s]\n",
      "Loss:  0.38176: 100%|██████████| 938/938 [00:13<00:00, 71.88it/s]\n",
      "Accuracy:  0.9805: 100%|██████████| 10/10 [00:01<00:00,  9.84it/s]\n",
      "Loss:  0.00020: 100%|██████████| 938/938 [00:12<00:00, 74.73it/s]\n",
      "Accuracy:  0.9812: 100%|██████████| 10/10 [00:01<00:00,  9.83it/s]\n",
      "Loss:  0.00016: 100%|██████████| 938/938 [00:12<00:00, 74.60it/s]\n",
      "Accuracy:  0.9817: 100%|██████████| 10/10 [00:01<00:00,  9.62it/s]\n",
      "Loss:  0.42026: 100%|██████████| 938/938 [00:12<00:00, 73.26it/s]\n",
      "Accuracy:  0.9834: 100%|██████████| 10/10 [00:01<00:00,  9.92it/s]\n",
      "Loss:  0.21644: 100%|██████████| 938/938 [00:12<00:00, 74.19it/s]\n",
      "Accuracy:  0.9834: 100%|██████████| 10/10 [00:01<00:00,  9.48it/s]\n",
      "Loss:  0.00589: 100%|██████████| 938/938 [00:12<00:00, 72.69it/s]\n",
      "Accuracy:  0.9845: 100%|██████████| 10/10 [00:01<00:00,  9.37it/s]\n",
      "Loss:  0.01376: 100%|██████████| 938/938 [00:13<00:00, 71.56it/s]\n",
      "Accuracy:  0.9846: 100%|██████████| 10/10 [00:01<00:00,  9.44it/s]\n",
      "Loss:  0.00265: 100%|██████████| 938/938 [00:14<00:00, 66.63it/s]\n",
      "Accuracy:  0.9844: 100%|██████████| 10/10 [00:01<00:00,  8.39it/s]\n",
      "Loss: 0.00265: 100%|██████████| 10/10 [02:22<00:00, 14.21s/it]\n"
     ]
    },
    {
     "data": {
      "text/plain": [
       "([tensor(0.0866, device='cuda:0', grad_fn=<NllLossBackward0>),\n",
       "  tensor(0.0144, device='cuda:0', grad_fn=<NllLossBackward0>),\n",
       "  tensor(0.3818, device='cuda:0', grad_fn=<NllLossBackward0>),\n",
       "  tensor(0.0002, device='cuda:0', grad_fn=<NllLossBackward0>),\n",
       "  tensor(0.0002, device='cuda:0', grad_fn=<NllLossBackward0>),\n",
       "  tensor(0.4203, device='cuda:0', grad_fn=<NllLossBackward0>),\n",
       "  tensor(0.2164, device='cuda:0', grad_fn=<NllLossBackward0>),\n",
       "  tensor(0.0059, device='cuda:0', grad_fn=<NllLossBackward0>),\n",
       "  tensor(0.0138, device='cuda:0', grad_fn=<NllLossBackward0>),\n",
       "  tensor(0.0026, device='cuda:0', grad_fn=<NllLossBackward0>)],\n",
       " [0.0001387216441333294,\n",
       "  0.00011632492169737816,\n",
       "  0.00010801393166184425,\n",
       "  0.00010309783965349198,\n",
       "  0.00010692187622189521,\n",
       "  0.0001015650101006031,\n",
       "  8.860463909804821e-05,\n",
       "  9.646954238414765e-05,\n",
       "  9.636803269386291e-05,\n",
       "  9.87303152680397e-05])"
      ]
     },
     "execution_count": 7,
     "metadata": {},
     "output_type": "execute_result"
    }
   ],
   "source": [
    "mnist.mnist_tester(args.optimizer, args, largs)\n"
   ]
  },
  {
   "cell_type": "code",
   "execution_count": null,
   "metadata": {},
   "outputs": [],
   "source": []
  }
 ],
 "metadata": {
  "kernelspec": {
   "display_name": "nadir",
   "language": "python",
   "name": "nadir"
  },
  "language_info": {
   "codemirror_mode": {
    "name": "ipython",
    "version": 3
   },
   "file_extension": ".py",
   "mimetype": "text/x-python",
   "name": "python",
   "nbconvert_exporter": "python",
   "pygments_lexer": "ipython3",
   "version": "3.8.10"
  },
  "orig_nbformat": 4,
  "vscode": {
   "interpreter": {
    "hash": "916dbcbb3f70747c44a77c7bcd40155683ae19c65e1c03b4aa3499c5328201f1"
   }
  }
 },
 "nbformat": 4,
 "nbformat_minor": 2
}
